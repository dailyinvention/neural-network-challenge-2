{
 "cells": [
  {
   "cell_type": "markdown",
   "metadata": {
    "id": "alIIEHibGc3M"
   },
   "source": [
    "## Part 1: Preprocessing"
   ]
  },
  {
   "cell_type": "code",
   "execution_count": 136,
   "metadata": {
    "colab": {
     "base_uri": "https://localhost:8080/",
     "height": 325
    },
    "id": "6eDUJ4NtGc3P",
    "outputId": "2480098c-135c-4cbf-9552-018494ee8ff5"
   },
   "outputs": [
    {
     "data": {
      "text/html": [
       "<div>\n",
       "<style scoped>\n",
       "    .dataframe tbody tr th:only-of-type {\n",
       "        vertical-align: middle;\n",
       "    }\n",
       "\n",
       "    .dataframe tbody tr th {\n",
       "        vertical-align: top;\n",
       "    }\n",
       "\n",
       "    .dataframe thead th {\n",
       "        text-align: right;\n",
       "    }\n",
       "</style>\n",
       "<table border=\"1\" class=\"dataframe\">\n",
       "  <thead>\n",
       "    <tr style=\"text-align: right;\">\n",
       "      <th></th>\n",
       "      <th>Age</th>\n",
       "      <th>Attrition</th>\n",
       "      <th>BusinessTravel</th>\n",
       "      <th>Department</th>\n",
       "      <th>DistanceFromHome</th>\n",
       "      <th>Education</th>\n",
       "      <th>EducationField</th>\n",
       "      <th>EnvironmentSatisfaction</th>\n",
       "      <th>HourlyRate</th>\n",
       "      <th>JobInvolvement</th>\n",
       "      <th>...</th>\n",
       "      <th>PerformanceRating</th>\n",
       "      <th>RelationshipSatisfaction</th>\n",
       "      <th>StockOptionLevel</th>\n",
       "      <th>TotalWorkingYears</th>\n",
       "      <th>TrainingTimesLastYear</th>\n",
       "      <th>WorkLifeBalance</th>\n",
       "      <th>YearsAtCompany</th>\n",
       "      <th>YearsInCurrentRole</th>\n",
       "      <th>YearsSinceLastPromotion</th>\n",
       "      <th>YearsWithCurrManager</th>\n",
       "    </tr>\n",
       "  </thead>\n",
       "  <tbody>\n",
       "    <tr>\n",
       "      <th>0</th>\n",
       "      <td>41</td>\n",
       "      <td>Yes</td>\n",
       "      <td>Travel_Rarely</td>\n",
       "      <td>Sales</td>\n",
       "      <td>1</td>\n",
       "      <td>2</td>\n",
       "      <td>Life Sciences</td>\n",
       "      <td>2</td>\n",
       "      <td>94</td>\n",
       "      <td>3</td>\n",
       "      <td>...</td>\n",
       "      <td>3</td>\n",
       "      <td>1</td>\n",
       "      <td>0</td>\n",
       "      <td>8</td>\n",
       "      <td>0</td>\n",
       "      <td>1</td>\n",
       "      <td>6</td>\n",
       "      <td>4</td>\n",
       "      <td>0</td>\n",
       "      <td>5</td>\n",
       "    </tr>\n",
       "    <tr>\n",
       "      <th>1</th>\n",
       "      <td>49</td>\n",
       "      <td>No</td>\n",
       "      <td>Travel_Frequently</td>\n",
       "      <td>Research &amp; Development</td>\n",
       "      <td>8</td>\n",
       "      <td>1</td>\n",
       "      <td>Life Sciences</td>\n",
       "      <td>3</td>\n",
       "      <td>61</td>\n",
       "      <td>2</td>\n",
       "      <td>...</td>\n",
       "      <td>4</td>\n",
       "      <td>4</td>\n",
       "      <td>1</td>\n",
       "      <td>10</td>\n",
       "      <td>3</td>\n",
       "      <td>3</td>\n",
       "      <td>10</td>\n",
       "      <td>7</td>\n",
       "      <td>1</td>\n",
       "      <td>7</td>\n",
       "    </tr>\n",
       "    <tr>\n",
       "      <th>2</th>\n",
       "      <td>37</td>\n",
       "      <td>Yes</td>\n",
       "      <td>Travel_Rarely</td>\n",
       "      <td>Research &amp; Development</td>\n",
       "      <td>2</td>\n",
       "      <td>2</td>\n",
       "      <td>Other</td>\n",
       "      <td>4</td>\n",
       "      <td>92</td>\n",
       "      <td>2</td>\n",
       "      <td>...</td>\n",
       "      <td>3</td>\n",
       "      <td>2</td>\n",
       "      <td>0</td>\n",
       "      <td>7</td>\n",
       "      <td>3</td>\n",
       "      <td>3</td>\n",
       "      <td>0</td>\n",
       "      <td>0</td>\n",
       "      <td>0</td>\n",
       "      <td>0</td>\n",
       "    </tr>\n",
       "    <tr>\n",
       "      <th>3</th>\n",
       "      <td>33</td>\n",
       "      <td>No</td>\n",
       "      <td>Travel_Frequently</td>\n",
       "      <td>Research &amp; Development</td>\n",
       "      <td>3</td>\n",
       "      <td>4</td>\n",
       "      <td>Life Sciences</td>\n",
       "      <td>4</td>\n",
       "      <td>56</td>\n",
       "      <td>3</td>\n",
       "      <td>...</td>\n",
       "      <td>3</td>\n",
       "      <td>3</td>\n",
       "      <td>0</td>\n",
       "      <td>8</td>\n",
       "      <td>3</td>\n",
       "      <td>3</td>\n",
       "      <td>8</td>\n",
       "      <td>7</td>\n",
       "      <td>3</td>\n",
       "      <td>0</td>\n",
       "    </tr>\n",
       "    <tr>\n",
       "      <th>4</th>\n",
       "      <td>27</td>\n",
       "      <td>No</td>\n",
       "      <td>Travel_Rarely</td>\n",
       "      <td>Research &amp; Development</td>\n",
       "      <td>2</td>\n",
       "      <td>1</td>\n",
       "      <td>Medical</td>\n",
       "      <td>1</td>\n",
       "      <td>40</td>\n",
       "      <td>3</td>\n",
       "      <td>...</td>\n",
       "      <td>3</td>\n",
       "      <td>4</td>\n",
       "      <td>1</td>\n",
       "      <td>6</td>\n",
       "      <td>3</td>\n",
       "      <td>3</td>\n",
       "      <td>2</td>\n",
       "      <td>2</td>\n",
       "      <td>2</td>\n",
       "      <td>2</td>\n",
       "    </tr>\n",
       "  </tbody>\n",
       "</table>\n",
       "<p>5 rows × 27 columns</p>\n",
       "</div>"
      ],
      "text/plain": [
       "   Age Attrition     BusinessTravel              Department  DistanceFromHome  \\\n",
       "0   41       Yes      Travel_Rarely                   Sales                 1   \n",
       "1   49        No  Travel_Frequently  Research & Development                 8   \n",
       "2   37       Yes      Travel_Rarely  Research & Development                 2   \n",
       "3   33        No  Travel_Frequently  Research & Development                 3   \n",
       "4   27        No      Travel_Rarely  Research & Development                 2   \n",
       "\n",
       "   Education EducationField  EnvironmentSatisfaction  HourlyRate  \\\n",
       "0          2  Life Sciences                        2          94   \n",
       "1          1  Life Sciences                        3          61   \n",
       "2          2          Other                        4          92   \n",
       "3          4  Life Sciences                        4          56   \n",
       "4          1        Medical                        1          40   \n",
       "\n",
       "   JobInvolvement  ...  PerformanceRating RelationshipSatisfaction  \\\n",
       "0               3  ...                  3                        1   \n",
       "1               2  ...                  4                        4   \n",
       "2               2  ...                  3                        2   \n",
       "3               3  ...                  3                        3   \n",
       "4               3  ...                  3                        4   \n",
       "\n",
       "   StockOptionLevel TotalWorkingYears  TrainingTimesLastYear WorkLifeBalance  \\\n",
       "0                 0                 8                      0               1   \n",
       "1                 1                10                      3               3   \n",
       "2                 0                 7                      3               3   \n",
       "3                 0                 8                      3               3   \n",
       "4                 1                 6                      3               3   \n",
       "\n",
       "   YearsAtCompany  YearsInCurrentRole  YearsSinceLastPromotion  \\\n",
       "0               6                   4                        0   \n",
       "1              10                   7                        1   \n",
       "2               0                   0                        0   \n",
       "3               8                   7                        3   \n",
       "4               2                   2                        2   \n",
       "\n",
       "   YearsWithCurrManager  \n",
       "0                     5  \n",
       "1                     7  \n",
       "2                     0  \n",
       "3                     0  \n",
       "4                     2  \n",
       "\n",
       "[5 rows x 27 columns]"
      ]
     },
     "execution_count": 136,
     "metadata": {},
     "output_type": "execute_result"
    }
   ],
   "source": [
    "# Import our dependencies\n",
    "from sklearn.model_selection import train_test_split\n",
    "from sklearn.preprocessing import StandardScaler, OneHotEncoder\n",
    "import pandas as pd\n",
    "import numpy as np\n",
    "from tensorflow.keras.models import Model\n",
    "from tensorflow.keras import layers\n",
    "\n",
    "#  Import and read the attrition data\n",
    "attrition_df = pd.read_csv('https://static.bc-edx.com/ai/ail-v-1-0/m19/lms/datasets/attrition.csv')\n",
    "attrition_df.head()"
   ]
  },
  {
   "cell_type": "code",
   "execution_count": 137,
   "metadata": {
    "colab": {
     "base_uri": "https://localhost:8080/"
    },
    "id": "g22aQSY4Gc3Q",
    "outputId": "1f5c13c1-b981-4e40-a7ed-dd3fe6f1b81e"
   },
   "outputs": [
    {
     "data": {
      "text/plain": [
       "Age                         43\n",
       "Attrition                    2\n",
       "BusinessTravel               3\n",
       "Department                   3\n",
       "DistanceFromHome            29\n",
       "Education                    5\n",
       "EducationField               6\n",
       "EnvironmentSatisfaction      4\n",
       "HourlyRate                  71\n",
       "JobInvolvement               4\n",
       "JobLevel                     5\n",
       "JobRole                      9\n",
       "JobSatisfaction              4\n",
       "MaritalStatus                3\n",
       "NumCompaniesWorked          10\n",
       "OverTime                     2\n",
       "PercentSalaryHike           15\n",
       "PerformanceRating            2\n",
       "RelationshipSatisfaction     4\n",
       "StockOptionLevel             4\n",
       "TotalWorkingYears           40\n",
       "TrainingTimesLastYear        7\n",
       "WorkLifeBalance              4\n",
       "YearsAtCompany              37\n",
       "YearsInCurrentRole          19\n",
       "YearsSinceLastPromotion     16\n",
       "YearsWithCurrManager        18\n",
       "dtype: int64"
      ]
     },
     "execution_count": 137,
     "metadata": {},
     "output_type": "execute_result"
    }
   ],
   "source": [
    "# Determine the number of unique values in each column.\n",
    "attrition_df.nunique()"
   ]
  },
  {
   "cell_type": "code",
   "execution_count": 138,
   "metadata": {
    "id": "50vMgBEnJbfM"
   },
   "outputs": [
    {
     "data": {
      "text/html": [
       "<div>\n",
       "<style scoped>\n",
       "    .dataframe tbody tr th:only-of-type {\n",
       "        vertical-align: middle;\n",
       "    }\n",
       "\n",
       "    .dataframe tbody tr th {\n",
       "        vertical-align: top;\n",
       "    }\n",
       "\n",
       "    .dataframe thead th {\n",
       "        text-align: right;\n",
       "    }\n",
       "</style>\n",
       "<table border=\"1\" class=\"dataframe\">\n",
       "  <thead>\n",
       "    <tr style=\"text-align: right;\">\n",
       "      <th></th>\n",
       "      <th>Attrition</th>\n",
       "      <th>Department</th>\n",
       "    </tr>\n",
       "  </thead>\n",
       "  <tbody>\n",
       "    <tr>\n",
       "      <th>0</th>\n",
       "      <td>Yes</td>\n",
       "      <td>Sales</td>\n",
       "    </tr>\n",
       "    <tr>\n",
       "      <th>1</th>\n",
       "      <td>No</td>\n",
       "      <td>Research &amp; Development</td>\n",
       "    </tr>\n",
       "    <tr>\n",
       "      <th>2</th>\n",
       "      <td>Yes</td>\n",
       "      <td>Research &amp; Development</td>\n",
       "    </tr>\n",
       "    <tr>\n",
       "      <th>3</th>\n",
       "      <td>No</td>\n",
       "      <td>Research &amp; Development</td>\n",
       "    </tr>\n",
       "    <tr>\n",
       "      <th>4</th>\n",
       "      <td>No</td>\n",
       "      <td>Research &amp; Development</td>\n",
       "    </tr>\n",
       "  </tbody>\n",
       "</table>\n",
       "</div>"
      ],
      "text/plain": [
       "  Attrition              Department\n",
       "0       Yes                   Sales\n",
       "1        No  Research & Development\n",
       "2       Yes  Research & Development\n",
       "3        No  Research & Development\n",
       "4        No  Research & Development"
      ]
     },
     "execution_count": 138,
     "metadata": {},
     "output_type": "execute_result"
    }
   ],
   "source": [
    "# Create y_df with the Attrition and Department columns\n",
    "y_df = attrition_df[['Attrition', 'Department']]\n",
    "y_df.head()"
   ]
  },
  {
   "cell_type": "code",
   "execution_count": 139,
   "metadata": {
    "colab": {
     "base_uri": "https://localhost:8080/"
    },
    "id": "Virka0zLGc3R",
    "outputId": "dd5aee3a-9458-4ba6-e857-1b234de40915"
   },
   "outputs": [
    {
     "data": {
      "text/plain": [
       "Education                   int64\n",
       "Age                         int64\n",
       "DistanceFromHome            int64\n",
       "JobSatisfaction             int64\n",
       "OverTime                   object\n",
       "StockOptionLevel            int64\n",
       "WorkLifeBalance             int64\n",
       "YearsAtCompany              int64\n",
       "YearsSinceLastPromotion     int64\n",
       "NumCompaniesWorked          int64\n",
       "dtype: object"
      ]
     },
     "execution_count": 139,
     "metadata": {},
     "output_type": "execute_result"
    }
   ],
   "source": [
    "# Create a list of at least 10 column names to use as X data\n",
    "X_columns = ['Education', 'Age', 'DistanceFromHome', 'JobSatisfaction', 'OverTime', 'StockOptionLevel', 'WorkLifeBalance', 'YearsAtCompany', 'YearsSinceLastPromotion', 'NumCompaniesWorked']\n",
    "\n",
    "# Create X_df using your selected columns\n",
    "x_df = attrition_df[X_columns]\n",
    "\n",
    "# Show the data types for X_df\n",
    "x_df.dtypes\n"
   ]
  },
  {
   "cell_type": "code",
   "execution_count": 140,
   "metadata": {
    "id": "KaJfdOGUMHMR"
   },
   "outputs": [],
   "source": [
    "# Split the data into training and testing sets\n",
    "from sklearn.model_selection import train_test_split\n",
    "\n",
    "X_train, X_test, y_train, y_test = train_test_split(x_df, y_df, random_state=78)"
   ]
  },
  {
   "cell_type": "code",
   "execution_count": 141,
   "metadata": {
    "colab": {
     "base_uri": "https://localhost:8080/"
    },
    "id": "NYubUJqiLCSp",
    "outputId": "53f31721-571c-4c94-d13e-25a715749593"
   },
   "outputs": [
    {
     "data": {
      "text/plain": [
       "Overtime_Binary\n",
       "0    799\n",
       "1    303\n",
       "Name: count, dtype: int64"
      ]
     },
     "execution_count": 141,
     "metadata": {},
     "output_type": "execute_result"
    }
   ],
   "source": [
    "# Convert your X data to numeric data types however you see fit\n",
    "# Add new code cells as necessary\n",
    "X_train['Overtime_Binary'] = X_train['OverTime'].apply(lambda x: 1 if x == 'Yes' else 0)\n",
    "X_test['Overtime_Binary'] = X_test['OverTime'].apply(lambda x: 1 if x == 'Yes' else 0)\n",
    "\n",
    "X_train = X_train.drop('OverTime', axis=1)\n",
    "X_test = X_test.drop('OverTime', axis=1)\n",
    "X_train['Overtime_Binary'].value_counts()\n"
   ]
  },
  {
   "cell_type": "code",
   "execution_count": 142,
   "metadata": {
    "id": "EWA-aIA5Gc3T"
   },
   "outputs": [],
   "source": [
    "# Create a StandardScaler\n",
    "standard_scaler = StandardScaler()\n",
    "\n",
    "# Fit the StandardScaler to the training data\n",
    "standard_scaler.fit(X_train)\n",
    "\n",
    "# Scale the training and testing data\n",
    "X_test_scaled = standard_scaler.transform(X_test)\n",
    "X_train_scaled = standard_scaler.transform(X_train)\n",
    "\n",
    "\n"
   ]
  },
  {
   "cell_type": "code",
   "execution_count": 143,
   "metadata": {
    "colab": {
     "base_uri": "https://localhost:8080/"
    },
    "id": "-z0Mky8vQSz4",
    "outputId": "debefc85-c20b-48f5-f4d9-91eadd65d36a"
   },
   "outputs": [],
   "source": [
    "# Create a OneHotEncoder for the Department column\n",
    "dep_encoder = OneHotEncoder(sparse_output=False, handle_unknown='ignore')\n",
    "dep_encoder.set_output(transform=\"pandas\")\n",
    "# Fit the encoder to the training data\n",
    "dep_encoder.fit(y_train[['Department']])\n",
    "\n",
    "# Create two new variables by applying the encoder\n",
    "# to the training and testing data\n",
    "encoded_dept_train = dep_encoder.transform(y_train[['Department']])\n",
    "encoded_dept_test = dep_encoder.transform(y_test[['Department']])\n",
    "\n"
   ]
  },
  {
   "cell_type": "code",
   "execution_count": 144,
   "metadata": {
    "colab": {
     "base_uri": "https://localhost:8080/"
    },
    "id": "-G4DSpvFRrk4",
    "outputId": "9842e948-8a55-4b80-8fac-f96714e85589"
   },
   "outputs": [],
   "source": [
    "# Create a OneHotEncoder for the Attrition column\n",
    "attr_encoder = OneHotEncoder(sparse_output=False, handle_unknown='ignore')\n",
    "attr_encoder.set_output(transform=\"pandas\")\n",
    "# Fit the encoder to the training data\n",
    "attr_encoder.fit(y_train[['Attrition']])\n",
    "\n",
    "\n",
    "# Create two new variables by applying the encoder\n",
    "# to the training and testing data\n",
    "encoded_attr_train = attr_encoder.transform(y_train[['Attrition']])\n",
    "encoded_attr_test = attr_encoder.transform(y_test[['Attrition']])\n",
    "\n"
   ]
  },
  {
   "cell_type": "markdown",
   "metadata": {
    "id": "ykNmu_WWGc3T"
   },
   "source": [
    "## Create, Compile, and Train the Model"
   ]
  },
  {
   "cell_type": "code",
   "execution_count": 145,
   "metadata": {
    "id": "WUptZqmSGc3T"
   },
   "outputs": [],
   "source": [
    "# Find the number of columns in the X training data\n",
    "col_num = X_train_scaled.shape[1]\n",
    "\n",
    "# Create the input layer\n",
    "input_layer = layers.Input(shape=(col_num,), name='input_layer')\n",
    "\n",
    "\n",
    "# Create at least two shared layers\n",
    "shared_layer1 = layers.Dense(units=64, activation='relu', name='shared_layer_1')(input_layer)\n",
    "shared_layer2 = layers.Dense(units=128, activation='relu', name='shared_layer_2')(shared_layer1)\n"
   ]
  },
  {
   "cell_type": "code",
   "execution_count": 146,
   "metadata": {
    "id": "JukjTm2yTEqd"
   },
   "outputs": [],
   "source": [
    "# Create a branch for Department\n",
    "# with a hidden layer and an output layer\n",
    "\n",
    "# Create the hidden layer\n",
    "dep_hidden_layer = layers.Dense(units=32, activation='relu', name='department_hidden_layer')(shared_layer2)\n",
    "\n",
    "# Create the output layer\n",
    "dep_branch = layers.Dense(units=3, activation='sigmoid', name='department_output_layer')(dep_hidden_layer)\n"
   ]
  },
  {
   "cell_type": "code",
   "execution_count": 147,
   "metadata": {
    "id": "9OqhUiOJUBkR"
   },
   "outputs": [],
   "source": [
    "# Create a branch for Attrition\n",
    "# with a hidden layer and an output layer\n",
    "\n",
    "# Create the hidden layer\n",
    "attr_hidden_layer = layers.Dense(units=32, activation='relu', name='attrition_hidden_layer')(shared_layer2)\n",
    "\n",
    "# Create the output layer\n",
    "attr_branch = layers.Dense(units=2, activation='sigmoid', name='attrition_output_layer')(attr_hidden_layer)\n",
    "\n"
   ]
  },
  {
   "cell_type": "code",
   "execution_count": 148,
   "metadata": {
    "colab": {
     "base_uri": "https://localhost:8080/"
    },
    "id": "twmuejdxGc3T",
    "outputId": "25096308-b68b-42e4-e4ea-ae82e97c435a"
   },
   "outputs": [
    {
     "data": {
      "text/html": [
       "<pre style=\"white-space:pre;overflow-x:auto;line-height:normal;font-family:Menlo,'DejaVu Sans Mono',consolas,'Courier New',monospace\"><span style=\"font-weight: bold\">Model: \"functional_9\"</span>\n",
       "</pre>\n"
      ],
      "text/plain": [
       "\u001b[1mModel: \"functional_9\"\u001b[0m\n"
      ]
     },
     "metadata": {},
     "output_type": "display_data"
    },
    {
     "data": {
      "text/html": [
       "<pre style=\"white-space:pre;overflow-x:auto;line-height:normal;font-family:Menlo,'DejaVu Sans Mono',consolas,'Courier New',monospace\">┏━━━━━━━━━━━━━━━━━━━━━┳━━━━━━━━━━━━━━━━━━━┳━━━━━━━━━━━━┳━━━━━━━━━━━━━━━━━━━┓\n",
       "┃<span style=\"font-weight: bold\"> Layer (type)        </span>┃<span style=\"font-weight: bold\"> Output Shape      </span>┃<span style=\"font-weight: bold\">    Param # </span>┃<span style=\"font-weight: bold\"> Connected to      </span>┃\n",
       "┡━━━━━━━━━━━━━━━━━━━━━╇━━━━━━━━━━━━━━━━━━━╇━━━━━━━━━━━━╇━━━━━━━━━━━━━━━━━━━┩\n",
       "│ input_layer         │ (<span style=\"color: #00d7ff; text-decoration-color: #00d7ff\">None</span>, <span style=\"color: #00af00; text-decoration-color: #00af00\">10</span>)        │          <span style=\"color: #00af00; text-decoration-color: #00af00\">0</span> │ -                 │\n",
       "│ (<span style=\"color: #0087ff; text-decoration-color: #0087ff\">InputLayer</span>)        │                   │            │                   │\n",
       "├─────────────────────┼───────────────────┼────────────┼───────────────────┤\n",
       "│ shared_layer_1      │ (<span style=\"color: #00d7ff; text-decoration-color: #00d7ff\">None</span>, <span style=\"color: #00af00; text-decoration-color: #00af00\">64</span>)        │        <span style=\"color: #00af00; text-decoration-color: #00af00\">704</span> │ input_layer[<span style=\"color: #00af00; text-decoration-color: #00af00\">0</span>][<span style=\"color: #00af00; text-decoration-color: #00af00\">0</span>] │\n",
       "│ (<span style=\"color: #0087ff; text-decoration-color: #0087ff\">Dense</span>)             │                   │            │                   │\n",
       "├─────────────────────┼───────────────────┼────────────┼───────────────────┤\n",
       "│ shared_layer_2      │ (<span style=\"color: #00d7ff; text-decoration-color: #00d7ff\">None</span>, <span style=\"color: #00af00; text-decoration-color: #00af00\">128</span>)       │      <span style=\"color: #00af00; text-decoration-color: #00af00\">8,320</span> │ shared_layer_1[<span style=\"color: #00af00; text-decoration-color: #00af00\">0</span>… │\n",
       "│ (<span style=\"color: #0087ff; text-decoration-color: #0087ff\">Dense</span>)             │                   │            │                   │\n",
       "├─────────────────────┼───────────────────┼────────────┼───────────────────┤\n",
       "│ department_hidden_… │ (<span style=\"color: #00d7ff; text-decoration-color: #00d7ff\">None</span>, <span style=\"color: #00af00; text-decoration-color: #00af00\">32</span>)        │      <span style=\"color: #00af00; text-decoration-color: #00af00\">4,128</span> │ shared_layer_2[<span style=\"color: #00af00; text-decoration-color: #00af00\">0</span>… │\n",
       "│ (<span style=\"color: #0087ff; text-decoration-color: #0087ff\">Dense</span>)             │                   │            │                   │\n",
       "├─────────────────────┼───────────────────┼────────────┼───────────────────┤\n",
       "│ attrition_hidden_l… │ (<span style=\"color: #00d7ff; text-decoration-color: #00d7ff\">None</span>, <span style=\"color: #00af00; text-decoration-color: #00af00\">32</span>)        │      <span style=\"color: #00af00; text-decoration-color: #00af00\">4,128</span> │ shared_layer_2[<span style=\"color: #00af00; text-decoration-color: #00af00\">0</span>… │\n",
       "│ (<span style=\"color: #0087ff; text-decoration-color: #0087ff\">Dense</span>)             │                   │            │                   │\n",
       "├─────────────────────┼───────────────────┼────────────┼───────────────────┤\n",
       "│ department_output_… │ (<span style=\"color: #00d7ff; text-decoration-color: #00d7ff\">None</span>, <span style=\"color: #00af00; text-decoration-color: #00af00\">3</span>)         │         <span style=\"color: #00af00; text-decoration-color: #00af00\">99</span> │ department_hidde… │\n",
       "│ (<span style=\"color: #0087ff; text-decoration-color: #0087ff\">Dense</span>)             │                   │            │                   │\n",
       "├─────────────────────┼───────────────────┼────────────┼───────────────────┤\n",
       "│ attrition_output_l… │ (<span style=\"color: #00d7ff; text-decoration-color: #00d7ff\">None</span>, <span style=\"color: #00af00; text-decoration-color: #00af00\">2</span>)         │         <span style=\"color: #00af00; text-decoration-color: #00af00\">66</span> │ attrition_hidden… │\n",
       "│ (<span style=\"color: #0087ff; text-decoration-color: #0087ff\">Dense</span>)             │                   │            │                   │\n",
       "└─────────────────────┴───────────────────┴────────────┴───────────────────┘\n",
       "</pre>\n"
      ],
      "text/plain": [
       "┏━━━━━━━━━━━━━━━━━━━━━┳━━━━━━━━━━━━━━━━━━━┳━━━━━━━━━━━━┳━━━━━━━━━━━━━━━━━━━┓\n",
       "┃\u001b[1m \u001b[0m\u001b[1mLayer (type)       \u001b[0m\u001b[1m \u001b[0m┃\u001b[1m \u001b[0m\u001b[1mOutput Shape     \u001b[0m\u001b[1m \u001b[0m┃\u001b[1m \u001b[0m\u001b[1m   Param #\u001b[0m\u001b[1m \u001b[0m┃\u001b[1m \u001b[0m\u001b[1mConnected to     \u001b[0m\u001b[1m \u001b[0m┃\n",
       "┡━━━━━━━━━━━━━━━━━━━━━╇━━━━━━━━━━━━━━━━━━━╇━━━━━━━━━━━━╇━━━━━━━━━━━━━━━━━━━┩\n",
       "│ input_layer         │ (\u001b[38;5;45mNone\u001b[0m, \u001b[38;5;34m10\u001b[0m)        │          \u001b[38;5;34m0\u001b[0m │ -                 │\n",
       "│ (\u001b[38;5;33mInputLayer\u001b[0m)        │                   │            │                   │\n",
       "├─────────────────────┼───────────────────┼────────────┼───────────────────┤\n",
       "│ shared_layer_1      │ (\u001b[38;5;45mNone\u001b[0m, \u001b[38;5;34m64\u001b[0m)        │        \u001b[38;5;34m704\u001b[0m │ input_layer[\u001b[38;5;34m0\u001b[0m][\u001b[38;5;34m0\u001b[0m] │\n",
       "│ (\u001b[38;5;33mDense\u001b[0m)             │                   │            │                   │\n",
       "├─────────────────────┼───────────────────┼────────────┼───────────────────┤\n",
       "│ shared_layer_2      │ (\u001b[38;5;45mNone\u001b[0m, \u001b[38;5;34m128\u001b[0m)       │      \u001b[38;5;34m8,320\u001b[0m │ shared_layer_1[\u001b[38;5;34m0\u001b[0m… │\n",
       "│ (\u001b[38;5;33mDense\u001b[0m)             │                   │            │                   │\n",
       "├─────────────────────┼───────────────────┼────────────┼───────────────────┤\n",
       "│ department_hidden_… │ (\u001b[38;5;45mNone\u001b[0m, \u001b[38;5;34m32\u001b[0m)        │      \u001b[38;5;34m4,128\u001b[0m │ shared_layer_2[\u001b[38;5;34m0\u001b[0m… │\n",
       "│ (\u001b[38;5;33mDense\u001b[0m)             │                   │            │                   │\n",
       "├─────────────────────┼───────────────────┼────────────┼───────────────────┤\n",
       "│ attrition_hidden_l… │ (\u001b[38;5;45mNone\u001b[0m, \u001b[38;5;34m32\u001b[0m)        │      \u001b[38;5;34m4,128\u001b[0m │ shared_layer_2[\u001b[38;5;34m0\u001b[0m… │\n",
       "│ (\u001b[38;5;33mDense\u001b[0m)             │                   │            │                   │\n",
       "├─────────────────────┼───────────────────┼────────────┼───────────────────┤\n",
       "│ department_output_… │ (\u001b[38;5;45mNone\u001b[0m, \u001b[38;5;34m3\u001b[0m)         │         \u001b[38;5;34m99\u001b[0m │ department_hidde… │\n",
       "│ (\u001b[38;5;33mDense\u001b[0m)             │                   │            │                   │\n",
       "├─────────────────────┼───────────────────┼────────────┼───────────────────┤\n",
       "│ attrition_output_l… │ (\u001b[38;5;45mNone\u001b[0m, \u001b[38;5;34m2\u001b[0m)         │         \u001b[38;5;34m66\u001b[0m │ attrition_hidden… │\n",
       "│ (\u001b[38;5;33mDense\u001b[0m)             │                   │            │                   │\n",
       "└─────────────────────┴───────────────────┴────────────┴───────────────────┘\n"
      ]
     },
     "metadata": {},
     "output_type": "display_data"
    },
    {
     "data": {
      "text/html": [
       "<pre style=\"white-space:pre;overflow-x:auto;line-height:normal;font-family:Menlo,'DejaVu Sans Mono',consolas,'Courier New',monospace\"><span style=\"font-weight: bold\"> Total params: </span><span style=\"color: #00af00; text-decoration-color: #00af00\">17,445</span> (68.14 KB)\n",
       "</pre>\n"
      ],
      "text/plain": [
       "\u001b[1m Total params: \u001b[0m\u001b[38;5;34m17,445\u001b[0m (68.14 KB)\n"
      ]
     },
     "metadata": {},
     "output_type": "display_data"
    },
    {
     "data": {
      "text/html": [
       "<pre style=\"white-space:pre;overflow-x:auto;line-height:normal;font-family:Menlo,'DejaVu Sans Mono',consolas,'Courier New',monospace\"><span style=\"font-weight: bold\"> Trainable params: </span><span style=\"color: #00af00; text-decoration-color: #00af00\">17,445</span> (68.14 KB)\n",
       "</pre>\n"
      ],
      "text/plain": [
       "\u001b[1m Trainable params: \u001b[0m\u001b[38;5;34m17,445\u001b[0m (68.14 KB)\n"
      ]
     },
     "metadata": {},
     "output_type": "display_data"
    },
    {
     "data": {
      "text/html": [
       "<pre style=\"white-space:pre;overflow-x:auto;line-height:normal;font-family:Menlo,'DejaVu Sans Mono',consolas,'Courier New',monospace\"><span style=\"font-weight: bold\"> Non-trainable params: </span><span style=\"color: #00af00; text-decoration-color: #00af00\">0</span> (0.00 B)\n",
       "</pre>\n"
      ],
      "text/plain": [
       "\u001b[1m Non-trainable params: \u001b[0m\u001b[38;5;34m0\u001b[0m (0.00 B)\n"
      ]
     },
     "metadata": {},
     "output_type": "display_data"
    }
   ],
   "source": [
    "# Create the model\n",
    "model = Model(inputs=input_layer, outputs=[dep_branch, attr_branch])\n",
    "\n",
    "# Compile the model\n",
    "model.compile(optimizer='adam',\n",
    "              loss={'department_output_layer': 'categorical_crossentropy', 'attrition_output_layer': 'binary_crossentropy'},\n",
    "              metrics={'department_output_layer': 'accuracy', 'attrition_output_layer': 'accuracy'})\n",
    "\n",
    "# Summarize the model\n",
    "model.summary()"
   ]
  },
  {
   "cell_type": "code",
   "execution_count": 149,
   "metadata": {},
   "outputs": [
    {
     "name": "stdout",
     "output_type": "stream",
     "text": [
      "Epoch 1/100\n",
      "35/35 - 1s - 32ms/step - attrition_output_layer_accuracy: 0.8240 - attrition_output_layer_loss: 0.4818 - department_output_layer_accuracy: 0.6642 - department_output_layer_loss: 0.5532 - loss: 1.0344\n",
      "Epoch 2/100\n",
      "35/35 - 0s - 1ms/step - attrition_output_layer_accuracy: 0.8394 - attrition_output_layer_loss: 0.4090 - department_output_layer_accuracy: 0.6661 - department_output_layer_loss: 0.4706 - loss: 0.8779\n",
      "Epoch 3/100\n",
      "35/35 - 0s - 1ms/step - attrition_output_layer_accuracy: 0.8539 - attrition_output_layer_loss: 0.3841 - department_output_layer_accuracy: 0.6670 - department_output_layer_loss: 0.4667 - loss: 0.8512\n",
      "Epoch 4/100\n",
      "35/35 - 0s - 1ms/step - attrition_output_layer_accuracy: 0.8548 - attrition_output_layer_loss: 0.3737 - department_output_layer_accuracy: 0.6670 - department_output_layer_loss: 0.4633 - loss: 0.8333\n",
      "Epoch 5/100\n",
      "35/35 - 0s - 1ms/step - attrition_output_layer_accuracy: 0.8612 - attrition_output_layer_loss: 0.3556 - department_output_layer_accuracy: 0.6688 - department_output_layer_loss: 0.4600 - loss: 0.8199\n",
      "Epoch 6/100\n",
      "35/35 - 0s - 1ms/step - attrition_output_layer_accuracy: 0.8630 - attrition_output_layer_loss: 0.3479 - department_output_layer_accuracy: 0.6661 - department_output_layer_loss: 0.4578 - loss: 0.8077\n",
      "Epoch 7/100\n",
      "35/35 - 0s - 2ms/step - attrition_output_layer_accuracy: 0.8739 - attrition_output_layer_loss: 0.3430 - department_output_layer_accuracy: 0.6679 - department_output_layer_loss: 0.4578 - loss: 0.7961\n",
      "Epoch 8/100\n",
      "35/35 - 0s - 1ms/step - attrition_output_layer_accuracy: 0.8657 - attrition_output_layer_loss: 0.3406 - department_output_layer_accuracy: 0.6688 - department_output_layer_loss: 0.4518 - loss: 0.7908\n",
      "Epoch 9/100\n",
      "35/35 - 0s - 1ms/step - attrition_output_layer_accuracy: 0.8730 - attrition_output_layer_loss: 0.3233 - department_output_layer_accuracy: 0.6697 - department_output_layer_loss: 0.4493 - loss: 0.7738\n",
      "Epoch 10/100\n",
      "35/35 - 0s - 1ms/step - attrition_output_layer_accuracy: 0.8711 - attrition_output_layer_loss: 0.3173 - department_output_layer_accuracy: 0.6733 - department_output_layer_loss: 0.4456 - loss: 0.7671\n",
      "Epoch 11/100\n",
      "35/35 - 0s - 1ms/step - attrition_output_layer_accuracy: 0.8739 - attrition_output_layer_loss: 0.3105 - department_output_layer_accuracy: 0.6751 - department_output_layer_loss: 0.4468 - loss: 0.7542\n",
      "Epoch 12/100\n",
      "35/35 - 0s - 1ms/step - attrition_output_layer_accuracy: 0.8730 - attrition_output_layer_loss: 0.2954 - department_output_layer_accuracy: 0.6824 - department_output_layer_loss: 0.4420 - loss: 0.7405\n",
      "Epoch 13/100\n",
      "35/35 - 0s - 1ms/step - attrition_output_layer_accuracy: 0.8902 - attrition_output_layer_loss: 0.2926 - department_output_layer_accuracy: 0.6842 - department_output_layer_loss: 0.4384 - loss: 0.7318\n",
      "Epoch 14/100\n",
      "35/35 - 0s - 1ms/step - attrition_output_layer_accuracy: 0.8920 - attrition_output_layer_loss: 0.2841 - department_output_layer_accuracy: 0.6842 - department_output_layer_loss: 0.4375 - loss: 0.7207\n",
      "Epoch 15/100\n",
      "35/35 - 0s - 1ms/step - attrition_output_layer_accuracy: 0.8911 - attrition_output_layer_loss: 0.2748 - department_output_layer_accuracy: 0.6915 - department_output_layer_loss: 0.4340 - loss: 0.7067\n",
      "Epoch 16/100\n",
      "35/35 - 0s - 1ms/step - attrition_output_layer_accuracy: 0.8929 - attrition_output_layer_loss: 0.2662 - department_output_layer_accuracy: 0.6969 - department_output_layer_loss: 0.4272 - loss: 0.6955\n",
      "Epoch 17/100\n",
      "35/35 - 0s - 1ms/step - attrition_output_layer_accuracy: 0.9047 - attrition_output_layer_loss: 0.2567 - department_output_layer_accuracy: 0.6942 - department_output_layer_loss: 0.4239 - loss: 0.6818\n",
      "Epoch 18/100\n",
      "35/35 - 0s - 1ms/step - attrition_output_layer_accuracy: 0.8993 - attrition_output_layer_loss: 0.2545 - department_output_layer_accuracy: 0.7024 - department_output_layer_loss: 0.4214 - loss: 0.6736\n",
      "Epoch 19/100\n",
      "35/35 - 0s - 1ms/step - attrition_output_layer_accuracy: 0.9065 - attrition_output_layer_loss: 0.2416 - department_output_layer_accuracy: 0.7078 - department_output_layer_loss: 0.4137 - loss: 0.6544\n",
      "Epoch 20/100\n",
      "35/35 - 0s - 1ms/step - attrition_output_layer_accuracy: 0.8984 - attrition_output_layer_loss: 0.2397 - department_output_layer_accuracy: 0.7069 - department_output_layer_loss: 0.4139 - loss: 0.6523\n",
      "Epoch 21/100\n",
      "35/35 - 0s - 1ms/step - attrition_output_layer_accuracy: 0.9047 - attrition_output_layer_loss: 0.2345 - department_output_layer_accuracy: 0.7096 - department_output_layer_loss: 0.4051 - loss: 0.6418\n",
      "Epoch 22/100\n",
      "35/35 - 0s - 1ms/step - attrition_output_layer_accuracy: 0.9138 - attrition_output_layer_loss: 0.2204 - department_output_layer_accuracy: 0.7187 - department_output_layer_loss: 0.4034 - loss: 0.6235\n",
      "Epoch 23/100\n",
      "35/35 - 0s - 1ms/step - attrition_output_layer_accuracy: 0.9165 - attrition_output_layer_loss: 0.2100 - department_output_layer_accuracy: 0.7296 - department_output_layer_loss: 0.3964 - loss: 0.6068\n",
      "Epoch 24/100\n",
      "35/35 - 0s - 1ms/step - attrition_output_layer_accuracy: 0.9211 - attrition_output_layer_loss: 0.2024 - department_output_layer_accuracy: 0.7341 - department_output_layer_loss: 0.3890 - loss: 0.5945\n",
      "Epoch 25/100\n",
      "35/35 - 0s - 1ms/step - attrition_output_layer_accuracy: 0.9211 - attrition_output_layer_loss: 0.2016 - department_output_layer_accuracy: 0.7269 - department_output_layer_loss: 0.3883 - loss: 0.5896\n",
      "Epoch 26/100\n",
      "35/35 - 0s - 1ms/step - attrition_output_layer_accuracy: 0.9138 - attrition_output_layer_loss: 0.2105 - department_output_layer_accuracy: 0.7459 - department_output_layer_loss: 0.3757 - loss: 0.5840\n",
      "Epoch 27/100\n",
      "35/35 - 0s - 1ms/step - attrition_output_layer_accuracy: 0.9256 - attrition_output_layer_loss: 0.1867 - department_output_layer_accuracy: 0.7477 - department_output_layer_loss: 0.3759 - loss: 0.5617\n",
      "Epoch 28/100\n",
      "35/35 - 0s - 1ms/step - attrition_output_layer_accuracy: 0.9283 - attrition_output_layer_loss: 0.1724 - department_output_layer_accuracy: 0.7550 - department_output_layer_loss: 0.3682 - loss: 0.5416\n",
      "Epoch 29/100\n",
      "35/35 - 0s - 1ms/step - attrition_output_layer_accuracy: 0.9419 - attrition_output_layer_loss: 0.1592 - department_output_layer_accuracy: 0.7586 - department_output_layer_loss: 0.3614 - loss: 0.5215\n",
      "Epoch 30/100\n",
      "35/35 - 0s - 2ms/step - attrition_output_layer_accuracy: 0.9392 - attrition_output_layer_loss: 0.1570 - department_output_layer_accuracy: 0.7695 - department_output_layer_loss: 0.3544 - loss: 0.5136\n",
      "Epoch 31/100\n",
      "35/35 - 0s - 1ms/step - attrition_output_layer_accuracy: 0.9446 - attrition_output_layer_loss: 0.1525 - department_output_layer_accuracy: 0.7568 - department_output_layer_loss: 0.3543 - loss: 0.5048\n",
      "Epoch 32/100\n",
      "35/35 - 0s - 1ms/step - attrition_output_layer_accuracy: 0.9437 - attrition_output_layer_loss: 0.1426 - department_output_layer_accuracy: 0.7750 - department_output_layer_loss: 0.3462 - loss: 0.4865\n",
      "Epoch 33/100\n",
      "35/35 - 0s - 1ms/step - attrition_output_layer_accuracy: 0.9410 - attrition_output_layer_loss: 0.1408 - department_output_layer_accuracy: 0.7813 - department_output_layer_loss: 0.3363 - loss: 0.4780\n",
      "Epoch 34/100\n",
      "35/35 - 0s - 1ms/step - attrition_output_layer_accuracy: 0.9446 - attrition_output_layer_loss: 0.1466 - department_output_layer_accuracy: 0.7795 - department_output_layer_loss: 0.3386 - loss: 0.4862\n",
      "Epoch 35/100\n",
      "35/35 - 0s - 1ms/step - attrition_output_layer_accuracy: 0.9437 - attrition_output_layer_loss: 0.1384 - department_output_layer_accuracy: 0.7840 - department_output_layer_loss: 0.3341 - loss: 0.4686\n",
      "Epoch 36/100\n",
      "35/35 - 0s - 1ms/step - attrition_output_layer_accuracy: 0.9501 - attrition_output_layer_loss: 0.1270 - department_output_layer_accuracy: 0.7795 - department_output_layer_loss: 0.3275 - loss: 0.4527\n",
      "Epoch 37/100\n",
      "35/35 - 0s - 1ms/step - attrition_output_layer_accuracy: 0.9555 - attrition_output_layer_loss: 0.1213 - department_output_layer_accuracy: 0.7940 - department_output_layer_loss: 0.3177 - loss: 0.4378\n",
      "Epoch 38/100\n",
      "35/35 - 0s - 1ms/step - attrition_output_layer_accuracy: 0.9682 - attrition_output_layer_loss: 0.1044 - department_output_layer_accuracy: 0.7976 - department_output_layer_loss: 0.3140 - loss: 0.4177\n",
      "Epoch 39/100\n",
      "35/35 - 0s - 1ms/step - attrition_output_layer_accuracy: 0.9691 - attrition_output_layer_loss: 0.1015 - department_output_layer_accuracy: 0.7904 - department_output_layer_loss: 0.3143 - loss: 0.4177\n",
      "Epoch 40/100\n",
      "35/35 - 0s - 1ms/step - attrition_output_layer_accuracy: 0.9691 - attrition_output_layer_loss: 0.0987 - department_output_layer_accuracy: 0.7967 - department_output_layer_loss: 0.3105 - loss: 0.4072\n",
      "Epoch 41/100\n",
      "35/35 - 0s - 1ms/step - attrition_output_layer_accuracy: 0.9664 - attrition_output_layer_loss: 0.1033 - department_output_layer_accuracy: 0.8067 - department_output_layer_loss: 0.3028 - loss: 0.4031\n",
      "Epoch 42/100\n",
      "35/35 - 0s - 1ms/step - attrition_output_layer_accuracy: 0.9755 - attrition_output_layer_loss: 0.0932 - department_output_layer_accuracy: 0.8267 - department_output_layer_loss: 0.2912 - loss: 0.3853\n",
      "Epoch 43/100\n",
      "35/35 - 0s - 1ms/step - attrition_output_layer_accuracy: 0.9773 - attrition_output_layer_loss: 0.0781 - department_output_layer_accuracy: 0.8122 - department_output_layer_loss: 0.2914 - loss: 0.3700\n",
      "Epoch 44/100\n",
      "35/35 - 0s - 1ms/step - attrition_output_layer_accuracy: 0.9837 - attrition_output_layer_loss: 0.0711 - department_output_layer_accuracy: 0.8258 - department_output_layer_loss: 0.2803 - loss: 0.3516\n",
      "Epoch 45/100\n",
      "35/35 - 0s - 1ms/step - attrition_output_layer_accuracy: 0.9837 - attrition_output_layer_loss: 0.0679 - department_output_layer_accuracy: 0.8294 - department_output_layer_loss: 0.2763 - loss: 0.3436\n",
      "Epoch 46/100\n",
      "35/35 - 0s - 1ms/step - attrition_output_layer_accuracy: 0.9864 - attrition_output_layer_loss: 0.0701 - department_output_layer_accuracy: 0.8330 - department_output_layer_loss: 0.2690 - loss: 0.3353\n",
      "Epoch 47/100\n",
      "35/35 - 0s - 1ms/step - attrition_output_layer_accuracy: 0.9864 - attrition_output_layer_loss: 0.0659 - department_output_layer_accuracy: 0.8457 - department_output_layer_loss: 0.2593 - loss: 0.3235\n",
      "Epoch 48/100\n",
      "35/35 - 0s - 1ms/step - attrition_output_layer_accuracy: 0.9819 - attrition_output_layer_loss: 0.0617 - department_output_layer_accuracy: 0.8412 - department_output_layer_loss: 0.2590 - loss: 0.3204\n",
      "Epoch 49/100\n",
      "35/35 - 0s - 1ms/step - attrition_output_layer_accuracy: 0.9891 - attrition_output_layer_loss: 0.0573 - department_output_layer_accuracy: 0.8612 - department_output_layer_loss: 0.2490 - loss: 0.3056\n",
      "Epoch 50/100\n",
      "35/35 - 0s - 1ms/step - attrition_output_layer_accuracy: 0.9882 - attrition_output_layer_loss: 0.0531 - department_output_layer_accuracy: 0.8521 - department_output_layer_loss: 0.2491 - loss: 0.2984\n",
      "Epoch 51/100\n",
      "35/35 - 0s - 1ms/step - attrition_output_layer_accuracy: 0.9891 - attrition_output_layer_loss: 0.0498 - department_output_layer_accuracy: 0.8512 - department_output_layer_loss: 0.2418 - loss: 0.2916\n",
      "Epoch 52/100\n",
      "35/35 - 0s - 1ms/step - attrition_output_layer_accuracy: 0.9918 - attrition_output_layer_loss: 0.0453 - department_output_layer_accuracy: 0.8566 - department_output_layer_loss: 0.2385 - loss: 0.2829\n",
      "Epoch 53/100\n",
      "35/35 - 0s - 1ms/step - attrition_output_layer_accuracy: 0.9873 - attrition_output_layer_loss: 0.0511 - department_output_layer_accuracy: 0.8621 - department_output_layer_loss: 0.2298 - loss: 0.2825\n",
      "Epoch 54/100\n",
      "35/35 - 0s - 1ms/step - attrition_output_layer_accuracy: 0.9791 - attrition_output_layer_loss: 0.0611 - department_output_layer_accuracy: 0.8748 - department_output_layer_loss: 0.2230 - loss: 0.2853\n",
      "Epoch 55/100\n",
      "35/35 - 0s - 1ms/step - attrition_output_layer_accuracy: 0.9882 - attrition_output_layer_loss: 0.0523 - department_output_layer_accuracy: 0.8666 - department_output_layer_loss: 0.2209 - loss: 0.2736\n",
      "Epoch 56/100\n",
      "35/35 - 0s - 1ms/step - attrition_output_layer_accuracy: 0.9946 - attrition_output_layer_loss: 0.0405 - department_output_layer_accuracy: 0.8793 - department_output_layer_loss: 0.2157 - loss: 0.2519\n",
      "Epoch 57/100\n",
      "35/35 - 0s - 1ms/step - attrition_output_layer_accuracy: 0.9918 - attrition_output_layer_loss: 0.0388 - department_output_layer_accuracy: 0.8793 - department_output_layer_loss: 0.2095 - loss: 0.2497\n",
      "Epoch 58/100\n",
      "35/35 - 0s - 1ms/step - attrition_output_layer_accuracy: 0.9927 - attrition_output_layer_loss: 0.0362 - department_output_layer_accuracy: 0.8875 - department_output_layer_loss: 0.2052 - loss: 0.2399\n",
      "Epoch 59/100\n",
      "35/35 - 0s - 1ms/step - attrition_output_layer_accuracy: 0.9927 - attrition_output_layer_loss: 0.0371 - department_output_layer_accuracy: 0.8784 - department_output_layer_loss: 0.2021 - loss: 0.2389\n",
      "Epoch 60/100\n",
      "35/35 - 0s - 1ms/step - attrition_output_layer_accuracy: 0.9955 - attrition_output_layer_loss: 0.0342 - department_output_layer_accuracy: 0.8975 - department_output_layer_loss: 0.1955 - loss: 0.2311\n",
      "Epoch 61/100\n",
      "35/35 - 0s - 1ms/step - attrition_output_layer_accuracy: 0.9964 - attrition_output_layer_loss: 0.0293 - department_output_layer_accuracy: 0.8938 - department_output_layer_loss: 0.1901 - loss: 0.2174\n",
      "Epoch 62/100\n",
      "35/35 - 0s - 1ms/step - attrition_output_layer_accuracy: 0.9973 - attrition_output_layer_loss: 0.0278 - department_output_layer_accuracy: 0.9038 - department_output_layer_loss: 0.1841 - loss: 0.2128\n",
      "Epoch 63/100\n",
      "35/35 - 0s - 1ms/step - attrition_output_layer_accuracy: 0.9973 - attrition_output_layer_loss: 0.0230 - department_output_layer_accuracy: 0.9020 - department_output_layer_loss: 0.1785 - loss: 0.2000\n",
      "Epoch 64/100\n",
      "35/35 - 0s - 1ms/step - attrition_output_layer_accuracy: 0.9973 - attrition_output_layer_loss: 0.0223 - department_output_layer_accuracy: 0.9093 - department_output_layer_loss: 0.1750 - loss: 0.1937\n",
      "Epoch 65/100\n",
      "35/35 - 0s - 1ms/step - attrition_output_layer_accuracy: 0.9927 - attrition_output_layer_loss: 0.0380 - department_output_layer_accuracy: 0.9056 - department_output_layer_loss: 0.1769 - loss: 0.2140\n",
      "Epoch 66/100\n",
      "35/35 - 0s - 2ms/step - attrition_output_layer_accuracy: 0.9909 - attrition_output_layer_loss: 0.0346 - department_output_layer_accuracy: 0.9147 - department_output_layer_loss: 0.1649 - loss: 0.2002\n",
      "Epoch 67/100\n",
      "35/35 - 0s - 1ms/step - attrition_output_layer_accuracy: 0.9909 - attrition_output_layer_loss: 0.0345 - department_output_layer_accuracy: 0.9201 - department_output_layer_loss: 0.1543 - loss: 0.1906\n",
      "Epoch 68/100\n",
      "35/35 - 0s - 1ms/step - attrition_output_layer_accuracy: 0.9900 - attrition_output_layer_loss: 0.0317 - department_output_layer_accuracy: 0.9174 - department_output_layer_loss: 0.1555 - loss: 0.1873\n",
      "Epoch 69/100\n",
      "35/35 - 0s - 1ms/step - attrition_output_layer_accuracy: 0.9909 - attrition_output_layer_loss: 0.0347 - department_output_layer_accuracy: 0.9292 - department_output_layer_loss: 0.1539 - loss: 0.1892\n",
      "Epoch 70/100\n",
      "35/35 - 0s - 1ms/step - attrition_output_layer_accuracy: 0.9900 - attrition_output_layer_loss: 0.0316 - department_output_layer_accuracy: 0.9265 - department_output_layer_loss: 0.1443 - loss: 0.1774\n",
      "Epoch 71/100\n",
      "35/35 - 0s - 1ms/step - attrition_output_layer_accuracy: 0.9973 - attrition_output_layer_loss: 0.0172 - department_output_layer_accuracy: 0.9374 - department_output_layer_loss: 0.1406 - loss: 0.1581\n",
      "Epoch 72/100\n",
      "35/35 - 0s - 1ms/step - attrition_output_layer_accuracy: 0.9964 - attrition_output_layer_loss: 0.0159 - department_output_layer_accuracy: 0.9347 - department_output_layer_loss: 0.1403 - loss: 0.1569\n",
      "Epoch 73/100\n",
      "35/35 - 0s - 1ms/step - attrition_output_layer_accuracy: 0.9955 - attrition_output_layer_loss: 0.0245 - department_output_layer_accuracy: 0.9347 - department_output_layer_loss: 0.1379 - loss: 0.1598\n",
      "Epoch 74/100\n",
      "35/35 - 0s - 1ms/step - attrition_output_layer_accuracy: 0.9973 - attrition_output_layer_loss: 0.0183 - department_output_layer_accuracy: 0.9374 - department_output_layer_loss: 0.1303 - loss: 0.1483\n",
      "Epoch 75/100\n",
      "35/35 - 0s - 1ms/step - attrition_output_layer_accuracy: 0.9964 - attrition_output_layer_loss: 0.0160 - department_output_layer_accuracy: 0.9465 - department_output_layer_loss: 0.1258 - loss: 0.1418\n",
      "Epoch 76/100\n",
      "35/35 - 0s - 2ms/step - attrition_output_layer_accuracy: 0.9964 - attrition_output_layer_loss: 0.0182 - department_output_layer_accuracy: 0.9328 - department_output_layer_loss: 0.1318 - loss: 0.1501\n",
      "Epoch 77/100\n",
      "35/35 - 0s - 1ms/step - attrition_output_layer_accuracy: 0.9973 - attrition_output_layer_loss: 0.0150 - department_output_layer_accuracy: 0.9456 - department_output_layer_loss: 0.1264 - loss: 0.1411\n",
      "Epoch 78/100\n",
      "35/35 - 0s - 1ms/step - attrition_output_layer_accuracy: 0.9973 - attrition_output_layer_loss: 0.0125 - department_output_layer_accuracy: 0.9492 - department_output_layer_loss: 0.1183 - loss: 0.1293\n",
      "Epoch 79/100\n",
      "35/35 - 0s - 1ms/step - attrition_output_layer_accuracy: 0.9982 - attrition_output_layer_loss: 0.0107 - department_output_layer_accuracy: 0.9492 - department_output_layer_loss: 0.1136 - loss: 0.1249\n",
      "Epoch 80/100\n",
      "35/35 - 0s - 1ms/step - attrition_output_layer_accuracy: 0.9973 - attrition_output_layer_loss: 0.0107 - department_output_layer_accuracy: 0.9628 - department_output_layer_loss: 0.1058 - loss: 0.1151\n",
      "Epoch 81/100\n",
      "35/35 - 0s - 1ms/step - attrition_output_layer_accuracy: 0.9964 - attrition_output_layer_loss: 0.0136 - department_output_layer_accuracy: 0.9628 - department_output_layer_loss: 0.1007 - loss: 0.1147\n",
      "Epoch 82/100\n",
      "35/35 - 0s - 1ms/step - attrition_output_layer_accuracy: 0.9955 - attrition_output_layer_loss: 0.0124 - department_output_layer_accuracy: 0.9619 - department_output_layer_loss: 0.0979 - loss: 0.1111\n",
      "Epoch 83/100\n",
      "35/35 - 0s - 1ms/step - attrition_output_layer_accuracy: 0.9964 - attrition_output_layer_loss: 0.0150 - department_output_layer_accuracy: 0.9646 - department_output_layer_loss: 0.0971 - loss: 0.1120\n",
      "Epoch 84/100\n",
      "35/35 - 0s - 1ms/step - attrition_output_layer_accuracy: 0.9927 - attrition_output_layer_loss: 0.0289 - department_output_layer_accuracy: 0.9710 - department_output_layer_loss: 0.0939 - loss: 0.1238\n",
      "Epoch 85/100\n",
      "35/35 - 0s - 1ms/step - attrition_output_layer_accuracy: 0.9900 - attrition_output_layer_loss: 0.0301 - department_output_layer_accuracy: 0.9646 - department_output_layer_loss: 0.0923 - loss: 0.1229\n",
      "Epoch 86/100\n",
      "35/35 - 0s - 1ms/step - attrition_output_layer_accuracy: 0.9909 - attrition_output_layer_loss: 0.0312 - department_output_layer_accuracy: 0.9456 - department_output_layer_loss: 0.1005 - loss: 0.1320\n",
      "Epoch 87/100\n",
      "35/35 - 0s - 1ms/step - attrition_output_layer_accuracy: 0.9955 - attrition_output_layer_loss: 0.0128 - department_output_layer_accuracy: 0.9646 - department_output_layer_loss: 0.0929 - loss: 0.1058\n",
      "Epoch 88/100\n",
      "35/35 - 0s - 1ms/step - attrition_output_layer_accuracy: 0.9964 - attrition_output_layer_loss: 0.0123 - department_output_layer_accuracy: 0.9655 - department_output_layer_loss: 0.0888 - loss: 0.1013\n",
      "Epoch 89/100\n",
      "35/35 - 0s - 1ms/step - attrition_output_layer_accuracy: 0.9927 - attrition_output_layer_loss: 0.0229 - department_output_layer_accuracy: 0.9646 - department_output_layer_loss: 0.0913 - loss: 0.1140\n",
      "Epoch 90/100\n",
      "35/35 - 0s - 1ms/step - attrition_output_layer_accuracy: 0.9936 - attrition_output_layer_loss: 0.0175 - department_output_layer_accuracy: 0.9664 - department_output_layer_loss: 0.0827 - loss: 0.1008\n",
      "Epoch 91/100\n",
      "35/35 - 0s - 1ms/step - attrition_output_layer_accuracy: 0.9846 - attrition_output_layer_loss: 0.0379 - department_output_layer_accuracy: 0.9737 - department_output_layer_loss: 0.0811 - loss: 0.1146\n",
      "Epoch 92/100\n",
      "35/35 - 0s - 1ms/step - attrition_output_layer_accuracy: 0.9737 - attrition_output_layer_loss: 0.0663 - department_output_layer_accuracy: 0.9646 - department_output_layer_loss: 0.0818 - loss: 0.1484\n",
      "Epoch 93/100\n",
      "35/35 - 0s - 1ms/step - attrition_output_layer_accuracy: 0.9809 - attrition_output_layer_loss: 0.0468 - department_output_layer_accuracy: 0.9682 - department_output_layer_loss: 0.0808 - loss: 0.1282\n",
      "Epoch 94/100\n",
      "35/35 - 0s - 1ms/step - attrition_output_layer_accuracy: 0.9846 - attrition_output_layer_loss: 0.0466 - department_output_layer_accuracy: 0.9655 - department_output_layer_loss: 0.0867 - loss: 0.1348\n",
      "Epoch 95/100\n",
      "35/35 - 0s - 1ms/step - attrition_output_layer_accuracy: 0.9936 - attrition_output_layer_loss: 0.0188 - department_output_layer_accuracy: 0.9710 - department_output_layer_loss: 0.0743 - loss: 0.0939\n",
      "Epoch 96/100\n",
      "35/35 - 0s - 1ms/step - attrition_output_layer_accuracy: 0.9964 - attrition_output_layer_loss: 0.0155 - department_output_layer_accuracy: 0.9682 - department_output_layer_loss: 0.0757 - loss: 0.0917\n",
      "Epoch 97/100\n",
      "35/35 - 0s - 1ms/step - attrition_output_layer_accuracy: 0.9982 - attrition_output_layer_loss: 0.0123 - department_output_layer_accuracy: 0.9819 - department_output_layer_loss: 0.0672 - loss: 0.0774\n",
      "Epoch 98/100\n",
      "35/35 - 0s - 1ms/step - attrition_output_layer_accuracy: 0.9991 - attrition_output_layer_loss: 0.0066 - department_output_layer_accuracy: 0.9828 - department_output_layer_loss: 0.0646 - loss: 0.0705\n",
      "Epoch 99/100\n",
      "35/35 - 0s - 1ms/step - attrition_output_layer_accuracy: 0.9991 - attrition_output_layer_loss: 0.0049 - department_output_layer_accuracy: 0.9764 - department_output_layer_loss: 0.0615 - loss: 0.0667\n",
      "Epoch 100/100\n",
      "35/35 - 0s - 1ms/step - attrition_output_layer_accuracy: 0.9982 - attrition_output_layer_loss: 0.0086 - department_output_layer_accuracy: 0.9819 - department_output_layer_loss: 0.0620 - loss: 0.0708\n"
     ]
    },
    {
     "data": {
      "text/plain": [
       "<keras.src.callbacks.history.History at 0x3264cb700>"
      ]
     },
     "execution_count": 149,
     "metadata": {},
     "output_type": "execute_result"
    }
   ],
   "source": [
    "# Train the model\n",
    "model.fit(X_train_scaled, [encoded_dept_train, encoded_attr_train], epochs=100, shuffle=True, verbose=2) # found this version works in python 3.10"
   ]
  },
  {
   "cell_type": "code",
   "execution_count": 150,
   "metadata": {
    "colab": {
     "base_uri": "https://localhost:8080/"
    },
    "id": "VsMoaQlgGc3U",
    "outputId": "1bd4e601-e964-4abc-ad83-aeecf6b696be"
   },
   "outputs": [
    {
     "name": "stdout",
     "output_type": "stream",
     "text": [
      "12/12 - 0s - 11ms/step - attrition_output_layer_accuracy: 0.8234 - attrition_output_layer_loss: 1.3623 - department_output_layer_accuracy: 0.5082 - department_output_layer_loss: 1.5365 - loss: 2.9249\n"
     ]
    }
   ],
   "source": [
    "\n",
    "# Evaluate the model with the testing data\n",
    "test_results = model.evaluate(X_test_scaled, [encoded_dept_test, encoded_attr_test], verbose=2) # found this version works in python 3.10\n"
   ]
  },
  {
   "cell_type": "code",
   "execution_count": 151,
   "metadata": {
    "colab": {
     "base_uri": "https://localhost:8080/"
    },
    "id": "ZlCtlHi0Vt54",
    "outputId": "bc21ef3e-80c2-4b38-9c29-79515bc23dec"
   },
   "outputs": [
    {
     "name": "stdout",
     "output_type": "stream",
     "text": [
      "Department Accuracy: 82.3369562625885\n",
      "Attrition Accuracy: 50.815218687057495\n"
     ]
    }
   ],
   "source": [
    "# Print the accuracy for both department and attrition\n",
    "print(f\"Department Accuracy: {test_results[3]*100}\")\n",
    "print(f\"Attrition Accuracy: {test_results[4]*100}\")"
   ]
  },
  {
   "cell_type": "markdown",
   "metadata": {
    "id": "eGSyfsZfWOQM"
   },
   "source": [
    "# Summary\n",
    "\n",
    "In the provided space below, briefly answer the following questions.\n",
    "\n",
    "1. Is accuracy the best metric to use on this data? Why or why not?\n",
    "\n",
    "2. What activation functions did you choose for your output layers, and why?\n",
    "\n",
    "3. Can you name a few ways that this model might be improved?"
   ]
  },
  {
   "cell_type": "markdown",
   "metadata": {
    "id": "pi9SLpFnWvbF"
   },
   "source": [
    "YOUR ANSWERS HERE\n",
    "\n",
    "1. Accuracy may not be the best metric for this dataset.  The Attrition task likely involves an imbalanced dataset (e.g., fewer employees leave than stay), which can result in misleading accuracy.  The Department task is a multi-class classification problem, and while accuracy is commonly used, other metrics might provide a better view across all classes.\n",
    "2. For the both Attrition and Department targets sigmoid was used.  Attrition is technically a binary choice, and Department was multi-class, but contained classifications that were not related, so sigmoid seemed a good candidate both.  \n",
    "3. Use alternative metrics for measuring the model is a good start.  Use precision, recall, and F1-score (weighted F1 score for Department).  Maybe add more features to improve the model.  Tune parameters in the model such as number of neurons in hidden layers."
   ]
  },
  {
   "cell_type": "markdown",
   "metadata": {},
   "source": []
  },
  {
   "cell_type": "code",
   "execution_count": null,
   "metadata": {},
   "outputs": [],
   "source": []
  }
 ],
 "metadata": {
  "colab": {
   "provenance": []
  },
  "kernelspec": {
   "display_name": "py310",
   "language": "python",
   "name": "python3"
  },
  "language_info": {
   "codemirror_mode": {
    "name": "ipython",
    "version": 3
   },
   "file_extension": ".py",
   "mimetype": "text/x-python",
   "name": "python",
   "nbconvert_exporter": "python",
   "pygments_lexer": "ipython3",
   "version": "3.10.13"
  }
 },
 "nbformat": 4,
 "nbformat_minor": 0
}
